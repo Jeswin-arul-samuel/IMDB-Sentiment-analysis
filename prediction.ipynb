{
 "cells": [
  {
   "cell_type": "code",
   "execution_count": 3,
   "metadata": {},
   "outputs": [],
   "source": [
    "import numpy as np\n",
    "import tensorflow as tf\n",
    "from tensorflow.keras.datasets import imdb\n",
    "from tensorflow.keras.preprocessing import sequence\n",
    "from tensorflow.keras.models import Sequential, load_model\n",
    "from tensorflow.keras.layers import Embedding, SimpleRNN, Dense"
   ]
  },
  {
   "cell_type": "code",
   "execution_count": 2,
   "metadata": {},
   "outputs": [],
   "source": [
    "## Loading the Imdb dataset's word index\n",
    "word_index = imdb.get_word_index()\n",
    "reverse_word_index = {value: key for key, value in word_index.items()}"
   ]
  },
  {
   "cell_type": "code",
   "execution_count": 5,
   "metadata": {},
   "outputs": [
    {
     "name": "stderr",
     "output_type": "stream",
     "text": [
      "I0000 00:00:1741346771.665140   43386 gpu_device.cc:2022] Created device /job:localhost/replica:0/task:0/device:GPU:0 with 1768 MB memory:  -> device: 0, name: NVIDIA GeForce RTX 3050 Laptop GPU, pci bus id: 0000:01:00.0, compute capability: 8.6\n"
     ]
    },
    {
     "data": {
      "text/html": [
       "<pre style=\"white-space:pre;overflow-x:auto;line-height:normal;font-family:Menlo,'DejaVu Sans Mono',consolas,'Courier New',monospace\"><span style=\"font-weight: bold\">Model: \"sequential\"</span>\n",
       "</pre>\n"
      ],
      "text/plain": [
       "\u001b[1mModel: \"sequential\"\u001b[0m\n"
      ]
     },
     "metadata": {},
     "output_type": "display_data"
    },
    {
     "data": {
      "text/html": [
       "<pre style=\"white-space:pre;overflow-x:auto;line-height:normal;font-family:Menlo,'DejaVu Sans Mono',consolas,'Courier New',monospace\">┏━━━━━━━━━━━━━━━━━━━━━━━━━━━━━━━━━┳━━━━━━━━━━━━━━━━━━━━━━━━┳━━━━━━━━━━━━━━━┓\n",
       "┃<span style=\"font-weight: bold\"> Layer (type)                    </span>┃<span style=\"font-weight: bold\"> Output Shape           </span>┃<span style=\"font-weight: bold\">       Param # </span>┃\n",
       "┡━━━━━━━━━━━━━━━━━━━━━━━━━━━━━━━━━╇━━━━━━━━━━━━━━━━━━━━━━━━╇━━━━━━━━━━━━━━━┩\n",
       "│ embedding (<span style=\"color: #0087ff; text-decoration-color: #0087ff\">Embedding</span>)           │ (<span style=\"color: #00af00; text-decoration-color: #00af00\">32</span>, <span style=\"color: #00af00; text-decoration-color: #00af00\">500</span>, <span style=\"color: #00af00; text-decoration-color: #00af00\">128</span>)         │     <span style=\"color: #00af00; text-decoration-color: #00af00\">1,280,000</span> │\n",
       "├─────────────────────────────────┼────────────────────────┼───────────────┤\n",
       "│ simple_rnn (<span style=\"color: #0087ff; text-decoration-color: #0087ff\">SimpleRNN</span>)          │ (<span style=\"color: #00af00; text-decoration-color: #00af00\">32</span>, <span style=\"color: #00af00; text-decoration-color: #00af00\">128</span>)              │        <span style=\"color: #00af00; text-decoration-color: #00af00\">32,896</span> │\n",
       "├─────────────────────────────────┼────────────────────────┼───────────────┤\n",
       "│ dense (<span style=\"color: #0087ff; text-decoration-color: #0087ff\">Dense</span>)                   │ (<span style=\"color: #00af00; text-decoration-color: #00af00\">32</span>, <span style=\"color: #00af00; text-decoration-color: #00af00\">1</span>)                │           <span style=\"color: #00af00; text-decoration-color: #00af00\">129</span> │\n",
       "└─────────────────────────────────┴────────────────────────┴───────────────┘\n",
       "</pre>\n"
      ],
      "text/plain": [
       "┏━━━━━━━━━━━━━━━━━━━━━━━━━━━━━━━━━┳━━━━━━━━━━━━━━━━━━━━━━━━┳━━━━━━━━━━━━━━━┓\n",
       "┃\u001b[1m \u001b[0m\u001b[1mLayer (type)                   \u001b[0m\u001b[1m \u001b[0m┃\u001b[1m \u001b[0m\u001b[1mOutput Shape          \u001b[0m\u001b[1m \u001b[0m┃\u001b[1m \u001b[0m\u001b[1m      Param #\u001b[0m\u001b[1m \u001b[0m┃\n",
       "┡━━━━━━━━━━━━━━━━━━━━━━━━━━━━━━━━━╇━━━━━━━━━━━━━━━━━━━━━━━━╇━━━━━━━━━━━━━━━┩\n",
       "│ embedding (\u001b[38;5;33mEmbedding\u001b[0m)           │ (\u001b[38;5;34m32\u001b[0m, \u001b[38;5;34m500\u001b[0m, \u001b[38;5;34m128\u001b[0m)         │     \u001b[38;5;34m1,280,000\u001b[0m │\n",
       "├─────────────────────────────────┼────────────────────────┼───────────────┤\n",
       "│ simple_rnn (\u001b[38;5;33mSimpleRNN\u001b[0m)          │ (\u001b[38;5;34m32\u001b[0m, \u001b[38;5;34m128\u001b[0m)              │        \u001b[38;5;34m32,896\u001b[0m │\n",
       "├─────────────────────────────────┼────────────────────────┼───────────────┤\n",
       "│ dense (\u001b[38;5;33mDense\u001b[0m)                   │ (\u001b[38;5;34m32\u001b[0m, \u001b[38;5;34m1\u001b[0m)                │           \u001b[38;5;34m129\u001b[0m │\n",
       "└─────────────────────────────────┴────────────────────────┴───────────────┘\n"
      ]
     },
     "metadata": {},
     "output_type": "display_data"
    },
    {
     "data": {
      "text/html": [
       "<pre style=\"white-space:pre;overflow-x:auto;line-height:normal;font-family:Menlo,'DejaVu Sans Mono',consolas,'Courier New',monospace\"><span style=\"font-weight: bold\"> Total params: </span><span style=\"color: #00af00; text-decoration-color: #00af00\">3,939,077</span> (15.03 MB)\n",
       "</pre>\n"
      ],
      "text/plain": [
       "\u001b[1m Total params: \u001b[0m\u001b[38;5;34m3,939,077\u001b[0m (15.03 MB)\n"
      ]
     },
     "metadata": {},
     "output_type": "display_data"
    },
    {
     "data": {
      "text/html": [
       "<pre style=\"white-space:pre;overflow-x:auto;line-height:normal;font-family:Menlo,'DejaVu Sans Mono',consolas,'Courier New',monospace\"><span style=\"font-weight: bold\"> Trainable params: </span><span style=\"color: #00af00; text-decoration-color: #00af00\">1,313,025</span> (5.01 MB)\n",
       "</pre>\n"
      ],
      "text/plain": [
       "\u001b[1m Trainable params: \u001b[0m\u001b[38;5;34m1,313,025\u001b[0m (5.01 MB)\n"
      ]
     },
     "metadata": {},
     "output_type": "display_data"
    },
    {
     "data": {
      "text/html": [
       "<pre style=\"white-space:pre;overflow-x:auto;line-height:normal;font-family:Menlo,'DejaVu Sans Mono',consolas,'Courier New',monospace\"><span style=\"font-weight: bold\"> Non-trainable params: </span><span style=\"color: #00af00; text-decoration-color: #00af00\">0</span> (0.00 B)\n",
       "</pre>\n"
      ],
      "text/plain": [
       "\u001b[1m Non-trainable params: \u001b[0m\u001b[38;5;34m0\u001b[0m (0.00 B)\n"
      ]
     },
     "metadata": {},
     "output_type": "display_data"
    },
    {
     "data": {
      "text/html": [
       "<pre style=\"white-space:pre;overflow-x:auto;line-height:normal;font-family:Menlo,'DejaVu Sans Mono',consolas,'Courier New',monospace\"><span style=\"font-weight: bold\"> Optimizer params: </span><span style=\"color: #00af00; text-decoration-color: #00af00\">2,626,052</span> (10.02 MB)\n",
       "</pre>\n"
      ],
      "text/plain": [
       "\u001b[1m Optimizer params: \u001b[0m\u001b[38;5;34m2,626,052\u001b[0m (10.02 MB)\n"
      ]
     },
     "metadata": {},
     "output_type": "display_data"
    }
   ],
   "source": [
    "model = load_model('imdb_rnn.keras')\n",
    "model.summary()"
   ]
  },
  {
   "cell_type": "code",
   "execution_count": 6,
   "metadata": {},
   "outputs": [
    {
     "data": {
      "text/plain": [
       "[array([[-0.19458643, -0.04357468, -0.03960358, ..., -0.03857193,\n",
       "         -0.02123128,  0.01810508],\n",
       "        [-0.01882016,  0.0002039 ,  0.01377379, ..., -0.02544832,\n",
       "          0.02362547, -0.00030763],\n",
       "        [-0.16626264,  0.03738732, -0.06280185, ..., -0.02379228,\n",
       "         -0.08232426,  0.14336137],\n",
       "        ...,\n",
       "        [-0.01052773, -0.0422865 ,  0.06708509, ...,  0.08842884,\n",
       "         -0.08965087, -0.09595361],\n",
       "        [ 0.00196209,  0.04819118,  0.04197874, ..., -0.01069223,\n",
       "         -0.0413865 ,  0.02299897],\n",
       "        [ 0.11405707, -0.11373773,  0.08144619, ...,  0.13752347,\n",
       "          0.05199527, -0.1127319 ]], dtype=float32),\n",
       " array([[-0.06007943,  0.07118436,  0.06591284, ...,  0.16182384,\n",
       "         -0.09123229,  0.03568731],\n",
       "        [-0.13054374, -0.02027185,  0.13606659, ..., -0.2474176 ,\n",
       "          0.07821142, -0.10040452],\n",
       "        [-0.05808602, -0.1417938 ,  0.1502438 , ...,  0.08013663,\n",
       "         -0.08014653,  0.09522058],\n",
       "        ...,\n",
       "        [ 0.08247584,  0.0679764 , -0.04276513, ...,  0.17010987,\n",
       "          0.06778729,  0.14567661],\n",
       "        [-0.07289013,  0.00566928,  0.10167794, ..., -0.02051331,\n",
       "         -0.0640282 , -0.02124274],\n",
       "        [-0.05107829,  0.10959287, -0.11630343, ..., -0.15659633,\n",
       "          0.094507  , -0.07030822]], dtype=float32),\n",
       " array([[-0.10263932, -0.00557299,  0.1380288 , ...,  0.08471749,\n",
       "          0.00080175, -0.00720295],\n",
       "        [-0.03095556, -0.06217877,  0.02365844, ...,  0.03964696,\n",
       "         -0.10443035, -0.12867925],\n",
       "        [-0.148062  ,  0.08327994,  0.145717  , ...,  0.05003047,\n",
       "          0.04840698,  0.13088112],\n",
       "        ...,\n",
       "        [-0.05955683, -0.04759517, -0.07624596, ...,  0.13418551,\n",
       "          0.05924134, -0.08327869],\n",
       "        [-0.05673027, -0.14074755,  0.16320077, ...,  0.01983582,\n",
       "         -0.02076526, -0.02798452],\n",
       "        [ 0.00512784, -0.07113681,  0.01941759, ..., -0.16730756,\n",
       "         -0.020881  ,  0.00990422]], dtype=float32),\n",
       " array([-3.4438759e-02, -4.5890078e-02, -3.7544142e-02, -3.8652949e-02,\n",
       "         6.9325931e-02, -1.7460603e-02, -1.8714296e-02, -3.0706689e-02,\n",
       "         3.0779636e-03, -4.2397496e-03, -3.9688166e-02,  4.6047834e-03,\n",
       "        -4.5960922e-02,  1.3769827e-02,  2.6477462e-02, -2.1555519e-02,\n",
       "        -3.5692994e-02, -2.0616325e-02, -6.3383696e-03, -2.9618014e-02,\n",
       "         3.2867093e-03, -1.8689528e-02, -1.5348099e-02,  5.1328693e-02,\n",
       "        -2.6473628e-02, -1.7820461e-02, -3.5831578e-02,  1.6747648e-02,\n",
       "         2.8641885e-03,  9.6106116e-05,  4.8909627e-04, -2.0930743e-02,\n",
       "        -2.2869563e-02,  3.0739676e-02, -8.2787359e-03, -1.1282478e-02,\n",
       "        -1.1536632e-02, -1.1544836e-02, -3.0537378e-02, -3.6975864e-02,\n",
       "         6.2536714e-03, -4.4245753e-02,  7.2720915e-02, -2.1780420e-02,\n",
       "        -2.3867523e-02, -1.9210020e-02, -7.7172960e-03, -4.3255828e-02,\n",
       "        -2.9994519e-02,  3.0678385e-03, -4.8292927e-02, -4.1604515e-02,\n",
       "        -1.2332455e-03,  3.8307834e-02,  2.9534366e-02,  2.2956280e-02,\n",
       "        -3.2927018e-02, -2.1097073e-04, -1.3095829e-02, -1.0423433e-02,\n",
       "         1.8933030e-02,  3.4412012e-02, -4.0041614e-02, -1.5582469e-02,\n",
       "        -3.9343137e-02,  1.8948149e-03, -3.6712095e-02, -3.3088353e-02,\n",
       "         5.4058459e-02, -1.4279452e-04,  1.5989874e-03,  8.2137864e-03,\n",
       "         7.9147723e-03, -3.7874363e-02,  6.6990242e-03,  3.5420074e-03,\n",
       "         8.2337176e-03,  3.3153968e-03, -3.2505099e-02,  2.5116533e-02,\n",
       "         2.0388989e-03,  2.9793371e-02, -2.6916765e-02, -2.5182236e-02,\n",
       "        -2.0533957e-02,  3.4059301e-02, -2.0032249e-02, -3.2918409e-02,\n",
       "        -2.5776068e-02, -3.0339012e-04, -1.2799019e-02,  4.0316526e-03,\n",
       "        -2.9088272e-02, -1.8014802e-02, -1.4747625e-02, -2.3472020e-02,\n",
       "         1.6630223e-02, -1.6408665e-02,  7.1710013e-03, -3.5711989e-02,\n",
       "        -8.8903857e-03,  2.6987271e-02,  4.4043310e-02, -3.1312224e-02,\n",
       "         5.1656574e-02, -1.7096372e-02, -2.7533245e-04, -3.3398069e-02,\n",
       "        -2.8056342e-02,  2.3094449e-02, -4.4051453e-02, -3.3191260e-02,\n",
       "         3.3846073e-02, -7.1562934e-03, -2.8386392e-02,  5.1508890e-03,\n",
       "        -7.5961314e-03,  1.2587511e-02,  5.4680153e-05,  1.0776712e-03,\n",
       "        -8.4818490e-03, -3.7581086e-02,  8.4866583e-03, -4.4014059e-02,\n",
       "        -8.4495498e-03, -8.0873035e-03,  2.3157818e-02,  1.2157866e-02],\n",
       "       dtype=float32),\n",
       " array([[-0.03317665],\n",
       "        [ 0.02626077],\n",
       "        [ 0.18316184],\n",
       "        [ 0.07312181],\n",
       "        [ 0.248359  ],\n",
       "        [-0.09373723],\n",
       "        [ 0.20447284],\n",
       "        [ 0.2298262 ],\n",
       "        [ 0.07790115],\n",
       "        [ 0.1244422 ],\n",
       "        [-0.07326187],\n",
       "        [ 0.22418293],\n",
       "        [ 0.10254283],\n",
       "        [-0.17426373],\n",
       "        [-0.12819806],\n",
       "        [ 0.23052633],\n",
       "        [-0.03157979],\n",
       "        [-0.10856428],\n",
       "        [-0.21010432],\n",
       "        [ 0.18339151],\n",
       "        [ 0.05469077],\n",
       "        [ 0.17105979],\n",
       "        [ 0.10619528],\n",
       "        [ 0.07193712],\n",
       "        [ 0.02322287],\n",
       "        [-0.21526194],\n",
       "        [-0.34620422],\n",
       "        [-0.32570246],\n",
       "        [-0.10463315],\n",
       "        [ 0.20513551],\n",
       "        [ 0.14160325],\n",
       "        [-0.13093822],\n",
       "        [ 0.19336441],\n",
       "        [-0.1314851 ],\n",
       "        [ 0.12906481],\n",
       "        [-0.1573638 ],\n",
       "        [-0.12442076],\n",
       "        [-0.17667013],\n",
       "        [ 0.22631736],\n",
       "        [ 0.06420524],\n",
       "        [ 0.24912255],\n",
       "        [ 0.11080024],\n",
       "        [ 0.29309493],\n",
       "        [-0.03592463],\n",
       "        [ 0.15185824],\n",
       "        [ 0.21955721],\n",
       "        [ 0.08862305],\n",
       "        [ 0.15563539],\n",
       "        [ 0.18248816],\n",
       "        [-0.17360505],\n",
       "        [-0.13422209],\n",
       "        [ 0.03577636],\n",
       "        [ 0.0733707 ],\n",
       "        [ 0.15997475],\n",
       "        [-0.00598811],\n",
       "        [-0.11576321],\n",
       "        [ 0.02077705],\n",
       "        [-0.05549126],\n",
       "        [ 0.01978213],\n",
       "        [ 0.11988831],\n",
       "        [ 0.17260046],\n",
       "        [-0.20473461],\n",
       "        [-0.18488576],\n",
       "        [ 0.03666516],\n",
       "        [-0.19400911],\n",
       "        [ 0.20625225],\n",
       "        [ 0.16781859],\n",
       "        [ 0.14755338],\n",
       "        [-0.11433034],\n",
       "        [-0.20874426],\n",
       "        [ 0.12232938],\n",
       "        [-0.19268496],\n",
       "        [-0.19172807],\n",
       "        [-0.00375514],\n",
       "        [-0.06471656],\n",
       "        [ 0.10580578],\n",
       "        [-0.04573327],\n",
       "        [ 0.09170374],\n",
       "        [ 0.10646626],\n",
       "        [ 0.21896629],\n",
       "        [ 0.14094251],\n",
       "        [-0.12924863],\n",
       "        [ 0.06640188],\n",
       "        [-0.03589799],\n",
       "        [ 0.02013919],\n",
       "        [-0.10197287],\n",
       "        [-0.26653862],\n",
       "        [ 0.06761819],\n",
       "        [ 0.21409452],\n",
       "        [-0.16240655],\n",
       "        [-0.08687469],\n",
       "        [-0.01723634],\n",
       "        [-0.01842247],\n",
       "        [-0.03225268],\n",
       "        [-0.15756883],\n",
       "        [-0.17208725],\n",
       "        [ 0.08610784],\n",
       "        [ 0.10761039],\n",
       "        [-0.02713311],\n",
       "        [-0.02141204],\n",
       "        [-0.02946837],\n",
       "        [ 0.1091324 ],\n",
       "        [ 0.07455908],\n",
       "        [ 0.22250624],\n",
       "        [ 0.10082314],\n",
       "        [-0.2787836 ],\n",
       "        [ 0.06191951],\n",
       "        [-0.1302332 ],\n",
       "        [-0.1783655 ],\n",
       "        [ 0.22230132],\n",
       "        [-0.16801088],\n",
       "        [ 0.0201983 ],\n",
       "        [-0.01026533],\n",
       "        [ 0.09793974],\n",
       "        [ 0.2506812 ],\n",
       "        [ 0.03186186],\n",
       "        [ 0.10396244],\n",
       "        [ 0.16804875],\n",
       "        [ 0.11755238],\n",
       "        [-0.61960256],\n",
       "        [ 0.06025516],\n",
       "        [ 0.1847508 ],\n",
       "        [ 0.05639523],\n",
       "        [-0.172271  ],\n",
       "        [ 0.17838323],\n",
       "        [-0.01118954],\n",
       "        [-0.02571611],\n",
       "        [-0.23124346]], dtype=float32),\n",
       " array([0.0743197], dtype=float32)]"
      ]
     },
     "execution_count": 6,
     "metadata": {},
     "output_type": "execute_result"
    }
   ],
   "source": [
    "model.get_weights()"
   ]
  },
  {
   "cell_type": "code",
   "execution_count": 7,
   "metadata": {},
   "outputs": [],
   "source": [
    "## function to decode the reviews\n",
    "\n",
    "def decode_review(encoded_review):\n",
    "    return ' '.join([reverse_word_index.get(i - 3, '?') for i in encoded_review])"
   ]
  },
  {
   "cell_type": "code",
   "execution_count": 8,
   "metadata": {},
   "outputs": [],
   "source": [
    "## function to preprocess the user text\n",
    "\n",
    "def preprocess_text(text):\n",
    "    words = text.lower().split()\n",
    "    encoded_review = [word_index.get(word, 2) + 3 for word in words]\n",
    "    padded_review = sequence.pad_sequences([encoded_review], maxlen = 500)\n",
    "    return padded_review"
   ]
  },
  {
   "cell_type": "code",
   "execution_count": 9,
   "metadata": {},
   "outputs": [],
   "source": [
    "## Prediction function\n",
    "def predict_sentiment(review):\n",
    "    pp_inp = preprocess_text(review)\n",
    "    prediction = model.predict(pp_inp)\n",
    "    \n",
    "    sentiment = 'Positive' if prediction[0][0] > 0.5 else 'Negative'\n",
    "    \n",
    "    return sentiment, prediction[0][0]"
   ]
  },
  {
   "cell_type": "code",
   "execution_count": 10,
   "metadata": {},
   "outputs": [
    {
     "name": "stdout",
     "output_type": "stream",
     "text": [
      "\u001b[1m1/1\u001b[0m \u001b[32m━━━━━━━━━━━━━━━━━━━━\u001b[0m\u001b[37m\u001b[0m \u001b[1m0s\u001b[0m 313ms/step\n",
      "Review: This movie was fantastic and the acting was great. Th plot was thrilling and kept the viewers on their feet\n",
      "Sentiment: Positive\n",
      "Prediction Score: 0.7662276029586792\n"
     ]
    },
    {
     "name": "stderr",
     "output_type": "stream",
     "text": [
      "WARNING: All log messages before absl::InitializeLog() is called are written to STDERR\n",
      "I0000 00:00:1741347412.291732   43989 service.cc:148] XLA service 0x7f8eec003c80 initialized for platform CUDA (this does not guarantee that XLA will be used). Devices:\n",
      "I0000 00:00:1741347412.291787   43989 service.cc:156]   StreamExecutor device (0): NVIDIA GeForce RTX 3050 Laptop GPU, Compute Capability 8.6\n",
      "2025-03-07 12:36:52.302650: I tensorflow/compiler/mlir/tensorflow/utils/dump_mlir_util.cc:268] disabling MLIR crash reproducer, set env var `MLIR_CRASH_REPRODUCER_DIRECTORY` to enable.\n",
      "I0000 00:00:1741347412.322495   43989 cuda_dnn.cc:529] Loaded cuDNN version 90300\n",
      "I0000 00:00:1741347412.442941   43989 device_compiler.h:188] Compiled cluster using XLA!  This line is logged at most once for the lifetime of the process.\n"
     ]
    }
   ],
   "source": [
    "example_review = \"This movie was fantastic and the acting was great. Th plot was thrilling and kept the viewers on their feet\"\n",
    "\n",
    "sentiment, score = predict_sentiment(example_review)\n",
    "\n",
    "print(f'Review: {example_review}')\n",
    "print(f'Sentiment: {sentiment}')\n",
    "print(f'Prediction Score: {score}')"
   ]
  },
  {
   "cell_type": "code",
   "execution_count": null,
   "metadata": {},
   "outputs": [],
   "source": []
  }
 ],
 "metadata": {
  "kernelspec": {
   "display_name": "tf_cuda",
   "language": "python",
   "name": "python3"
  },
  "language_info": {
   "codemirror_mode": {
    "name": "ipython",
    "version": 3
   },
   "file_extension": ".py",
   "mimetype": "text/x-python",
   "name": "python",
   "nbconvert_exporter": "python",
   "pygments_lexer": "ipython3",
   "version": "3.12.3"
  }
 },
 "nbformat": 4,
 "nbformat_minor": 2
}
